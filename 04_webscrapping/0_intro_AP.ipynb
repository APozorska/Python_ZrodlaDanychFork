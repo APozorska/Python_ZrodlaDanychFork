{
 "cells": [
  {
   "cell_type": "code",
   "execution_count": 2,
   "id": "741c6a3c-35f9-4ff6-9426-2a824a279391",
   "metadata": {},
   "outputs": [
    {
     "name": "stdout",
     "output_type": "stream",
     "text": [
      "Requirement already satisfied: beautifulsoup4 in c:\\users\\ola\\onedrive\\python\\sages\\zjazdy-materialy\\zjazdy7-8\\ds14092024_python_zrodla_danych\\.venv\\lib\\site-packages (4.12.3)\n",
      "Requirement already satisfied: soupsieve>1.2 in c:\\users\\ola\\onedrive\\python\\sages\\zjazdy-materialy\\zjazdy7-8\\ds14092024_python_zrodla_danych\\.venv\\lib\\site-packages (from beautifulsoup4) (2.6)\n"
     ]
    },
    {
     "name": "stderr",
     "output_type": "stream",
     "text": [
      "\n",
      "[notice] A new release of pip is available: 23.2.1 -> 24.2\n",
      "[notice] To update, run: python.exe -m pip install --upgrade pip\n"
     ]
    }
   ],
   "source": [
    "!pip install beautifulsoup4"
   ]
  },
  {
   "cell_type": "code",
   "execution_count": 3,
   "id": "7b5638aa-2c34-4b56-b828-f491720c4b96",
   "metadata": {},
   "outputs": [],
   "source": [
    "from bs4 import BeautifulSoup"
   ]
  },
  {
   "cell_type": "code",
   "execution_count": 4,
   "id": "89d3f5ab-f923-41fa-9751-e72ad7bb29e7",
   "metadata": {},
   "outputs": [],
   "source": [
    "with open('main.html') as file_obj:\n",
    "    soup = BeautifulSoup(file_obj, 'html.parser')"
   ]
  },
  {
   "cell_type": "code",
   "execution_count": 5,
   "id": "5d1fc427-421d-4956-b4a1-410dc283ea64",
   "metadata": {},
   "outputs": [
    {
     "data": {
      "text/plain": [
       "bs4.BeautifulSoup"
      ]
     },
     "execution_count": 5,
     "metadata": {},
     "output_type": "execute_result"
    }
   ],
   "source": [
    "type(soup)"
   ]
  },
  {
   "cell_type": "code",
   "execution_count": 6,
   "id": "bd31a438-fdd0-46af-9c69-77ee568ad647",
   "metadata": {},
   "outputs": [
    {
     "name": "stdout",
     "output_type": "stream",
     "text": [
      "['ASCII_SPACES', 'DEFAULT_BUILDER_FEATURES', 'DEFAULT_INTERESTING_STRING_TYPES', 'EMPTY_ELEMENT_EVENT', 'END_ELEMENT_EVENT', 'NO_PARSER_SPECIFIED_WARNING', 'ROOT_TAG_NAME', 'START_ELEMENT_EVENT', 'STRING_ELEMENT_EVENT', '__bool__', '__call__', '__class__', '__contains__', '__copy__', '__deepcopy__', '__delattr__', '__delitem__', '__dict__', '__dir__', '__doc__', '__eq__', '__format__', '__ge__', '__getattr__', '__getattribute__', '__getitem__', '__getstate__', '__gt__', '__hash__', '__init__', '__init_subclass__', '__iter__', '__le__', '__len__', '__lt__', '__module__', '__ne__', '__new__', '__reduce__', '__reduce_ex__', '__repr__', '__setattr__', '__setitem__', '__setstate__', '__sizeof__', '__str__', '__subclasshook__', '__unicode__', '__weakref__', '_all_strings', '_clone', '_decode_markup', '_event_stream', '_feed', '_find_all', '_find_one', '_format_tag', '_indent_string', '_is_xml', '_lastRecursiveChild', '_last_descendant', '_linkage_fixer', '_markup_is_url', '_markup_resembles_filename', '_most_recent_element', '_namespaces', '_popToTag', '_should_pretty_print', 'append', 'attrs', 'builder', 'can_be_empty_element', 'cdata_list_attributes', 'childGenerator', 'children', 'clear', 'contains_replacement_characters', 'contents', 'css', 'currentTag', 'current_data', 'declared_html_encoding', 'decode', 'decode_contents', 'decompose', 'decomposed', 'default', 'descendants', 'element_classes', 'encode', 'encode_contents', 'endData', 'extend', 'extract', 'fetchNextSiblings', 'fetchParents', 'fetchPrevious', 'fetchPreviousSiblings', 'find', 'findAll', 'findAllNext', 'findAllPrevious', 'findChild', 'findChildren', 'findNext', 'findNextSibling', 'findNextSiblings', 'findParent', 'findParents', 'findPrevious', 'findPreviousSibling', 'findPreviousSiblings', 'find_all', 'find_all_next', 'find_all_previous', 'find_next', 'find_next_sibling', 'find_next_siblings', 'find_parent', 'find_parents', 'find_previous', 'find_previous_sibling', 'find_previous_siblings', 'format_string', 'formatter_for_name', 'get', 'getText', 'get_attribute_list', 'get_text', 'handle_data', 'handle_endtag', 'handle_starttag', 'has_attr', 'has_key', 'hidden', 'index', 'insert', 'insert_after', 'insert_before', 'interesting_string_types', 'isSelfClosing', 'is_empty_element', 'is_xml', 'known_xml', 'markup', 'name', 'namespace', 'new_string', 'new_tag', 'next', 'nextGenerator', 'nextSibling', 'nextSiblingGenerator', 'next_element', 'next_elements', 'next_sibling', 'next_siblings', 'object_was_parsed', 'open_tag_counter', 'original_encoding', 'parent', 'parentGenerator', 'parents', 'parse_only', 'parserClass', 'parser_class', 'popTag', 'prefix', 'preserve_whitespace_tag_stack', 'preserve_whitespace_tags', 'prettify', 'previous', 'previousGenerator', 'previousSibling', 'previousSiblingGenerator', 'previous_element', 'previous_elements', 'previous_sibling', 'previous_siblings', 'pushTag', 'recursiveChildGenerator', 'renderContents', 'replaceWith', 'replaceWithChildren', 'replace_with', 'replace_with_children', 'reset', 'select', 'select_one', 'self_and_descendants', 'setup', 'smooth', 'string', 'string_container', 'string_container_stack', 'strings', 'stripped_strings', 'tagStack', 'text', 'unwrap', 'wrap']\n"
     ]
    }
   ],
   "source": [
    "print(dir(soup))"
   ]
  },
  {
   "cell_type": "code",
   "execution_count": 21,
   "id": "0d09dd6b-6593-49d6-9373-4cd51a0aaec9",
   "metadata": {},
   "outputs": [
    {
     "data": {
      "text/plain": [
       "<title>Moja strona</title>"
      ]
     },
     "execution_count": 21,
     "metadata": {},
     "output_type": "execute_result"
    }
   ],
   "source": [
    "res=soup.find('title')\n",
    "res"
   ]
  },
  {
   "cell_type": "code",
   "execution_count": 22,
   "id": "ffd1c8dc-921c-4530-a104-f5f4d2408cb5",
   "metadata": {},
   "outputs": [
    {
     "data": {
      "text/plain": [
       "bs4.element.Tag"
      ]
     },
     "execution_count": 22,
     "metadata": {},
     "output_type": "execute_result"
    }
   ],
   "source": [
    "type(res)"
   ]
  },
  {
   "cell_type": "code",
   "execution_count": 23,
   "id": "ae7074c2-a2c3-4b25-85ec-2a1f30e942f6",
   "metadata": {},
   "outputs": [
    {
     "name": "stdout",
     "output_type": "stream",
     "text": [
      "['DEFAULT_INTERESTING_STRING_TYPES', 'EMPTY_ELEMENT_EVENT', 'END_ELEMENT_EVENT', 'START_ELEMENT_EVENT', 'STRING_ELEMENT_EVENT', '__bool__', '__call__', '__class__', '__contains__', '__copy__', '__deepcopy__', '__delattr__', '__delitem__', '__dict__', '__dir__', '__doc__', '__eq__', '__format__', '__ge__', '__getattr__', '__getattribute__', '__getitem__', '__getstate__', '__gt__', '__hash__', '__init__', '__init_subclass__', '__iter__', '__le__', '__len__', '__lt__', '__module__', '__ne__', '__new__', '__reduce__', '__reduce_ex__', '__repr__', '__setattr__', '__setitem__', '__sizeof__', '__str__', '__subclasshook__', '__unicode__', '__weakref__', '_all_strings', '_clone', '_event_stream', '_find_all', '_find_one', '_format_tag', '_indent_string', '_is_xml', '_lastRecursiveChild', '_last_descendant', '_namespaces', '_should_pretty_print', 'append', 'attrs', 'can_be_empty_element', 'cdata_list_attributes', 'childGenerator', 'children', 'clear', 'contents', 'css', 'decode', 'decode_contents', 'decompose', 'decomposed', 'default', 'descendants', 'encode', 'encode_contents', 'extend', 'extract', 'fetchNextSiblings', 'fetchParents', 'fetchPrevious', 'fetchPreviousSiblings', 'find', 'findAll', 'findAllNext', 'findAllPrevious', 'findChild', 'findChildren', 'findNext', 'findNextSibling', 'findNextSiblings', 'findParent', 'findParents', 'findPrevious', 'findPreviousSibling', 'findPreviousSiblings', 'find_all', 'find_all_next', 'find_all_previous', 'find_next', 'find_next_sibling', 'find_next_siblings', 'find_parent', 'find_parents', 'find_previous', 'find_previous_sibling', 'find_previous_siblings', 'format_string', 'formatter_for_name', 'get', 'getText', 'get_attribute_list', 'get_text', 'has_attr', 'has_key', 'hidden', 'index', 'insert', 'insert_after', 'insert_before', 'interesting_string_types', 'isSelfClosing', 'is_empty_element', 'known_xml', 'name', 'namespace', 'next', 'nextGenerator', 'nextSibling', 'nextSiblingGenerator', 'next_element', 'next_elements', 'next_sibling', 'next_siblings', 'parent', 'parentGenerator', 'parents', 'parserClass', 'parser_class', 'prefix', 'preserve_whitespace_tags', 'prettify', 'previous', 'previousGenerator', 'previousSibling', 'previousSiblingGenerator', 'previous_element', 'previous_elements', 'previous_sibling', 'previous_siblings', 'recursiveChildGenerator', 'renderContents', 'replaceWith', 'replaceWithChildren', 'replace_with', 'replace_with_children', 'select', 'select_one', 'self_and_descendants', 'setup', 'smooth', 'sourceline', 'sourcepos', 'string', 'strings', 'stripped_strings', 'text', 'unwrap', 'wrap']\n"
     ]
    }
   ],
   "source": [
    "print(dir(res))"
   ]
  },
  {
   "cell_type": "code",
   "execution_count": 24,
   "id": "9ec10687-257d-49e9-9586-b304e93ed13f",
   "metadata": {},
   "outputs": [
    {
     "data": {
      "text/plain": [
       "'Moja strona'"
      ]
     },
     "execution_count": 24,
     "metadata": {},
     "output_type": "execute_result"
    }
   ],
   "source": [
    "res.text"
   ]
  },
  {
   "cell_type": "code",
   "execution_count": 25,
   "id": "59aa05db-6f32-45cc-a95d-885523869c0b",
   "metadata": {},
   "outputs": [
    {
     "data": {
      "text/plain": [
       "str"
      ]
     },
     "execution_count": 25,
     "metadata": {},
     "output_type": "execute_result"
    }
   ],
   "source": [
    "type(res.text)"
   ]
  },
  {
   "cell_type": "code",
   "execution_count": 14,
   "id": "6f0ba093-22af-4c9d-9f99-c71e3ab50c2c",
   "metadata": {},
   "outputs": [
    {
     "data": {
      "text/plain": [
       "[<li>Jablko</li>, <li id=\"dwa\">Banan</li>, <li>Manadarynka</li>]"
      ]
     },
     "execution_count": 14,
     "metadata": {},
     "output_type": "execute_result"
    }
   ],
   "source": [
    "res = soup.findAll('li')\n",
    "res"
   ]
  },
  {
   "cell_type": "code",
   "execution_count": 15,
   "id": "2fc3eca2-ba53-40e3-b58d-88c7b02672a1",
   "metadata": {},
   "outputs": [
    {
     "data": {
      "text/plain": [
       "bs4.element.ResultSet"
      ]
     },
     "execution_count": 15,
     "metadata": {},
     "output_type": "execute_result"
    }
   ],
   "source": [
    "type(res)"
   ]
  },
  {
   "cell_type": "code",
   "execution_count": 16,
   "id": "5003d675-f9e9-46c3-b20c-b57b242445cc",
   "metadata": {},
   "outputs": [
    {
     "data": {
      "text/plain": [
       "<li>Jablko</li>"
      ]
     },
     "execution_count": 16,
     "metadata": {},
     "output_type": "execute_result"
    }
   ],
   "source": [
    "res[0]"
   ]
  },
  {
   "cell_type": "code",
   "execution_count": 28,
   "id": "c634c4d7-f954-482b-bc11-291605c60607",
   "metadata": {},
   "outputs": [
    {
     "data": {
      "text/plain": [
       "[<div class=\"name f5\">Ala ma kota</div>]"
      ]
     },
     "execution_count": 28,
     "metadata": {},
     "output_type": "execute_result"
    }
   ],
   "source": [
    "# wyciagamy po klasie\n",
    "soup.findAll(class_='name')"
   ]
  },
  {
   "cell_type": "code",
   "execution_count": 32,
   "id": "602963fb-d00d-4a1e-98ac-2dc8bea04598",
   "metadata": {},
   "outputs": [
    {
     "data": {
      "text/plain": [
       "<li id=\"dwa\">Banan</li>"
      ]
     },
     "execution_count": 32,
     "metadata": {},
     "output_type": "execute_result"
    }
   ],
   "source": [
    "# wyciagamy po id\n",
    "res = soup.find(id='dwa')\n",
    "res"
   ]
  },
  {
   "cell_type": "markdown",
   "id": "09288b97-f0f6-402f-ae07-a67d7e812550",
   "metadata": {},
   "source": [
    "#### Selektory CSS \n"
   ]
  },
  {
   "cell_type": "code",
   "execution_count": 36,
   "id": "08c0f3c8-9105-4f6e-82fe-8eebbb5ba22d",
   "metadata": {},
   "outputs": [
    {
     "data": {
      "text/plain": [
       "[<li id=\"dwa\">Banan</li>]"
      ]
     },
     "execution_count": 36,
     "metadata": {},
     "output_type": "execute_result"
    }
   ],
   "source": [
    "res = soup.select(\"#dwa\") # id selector\n",
    "res"
   ]
  },
  {
   "cell_type": "code",
   "execution_count": 38,
   "id": "62226bf3-1c6a-4d44-8add-ba919a69aabd",
   "metadata": {},
   "outputs": [
    {
     "data": {
      "text/plain": [
       "[<div class=\"name f5\">Ala ma kota</div>]"
      ]
     },
     "execution_count": 38,
     "metadata": {},
     "output_type": "execute_result"
    }
   ],
   "source": [
    "res = soup.select(\".name\") # class selector\n",
    "res"
   ]
  },
  {
   "cell_type": "code",
   "execution_count": 39,
   "id": "dc93ee50-c854-4a27-b4ad-f7bb250b95db",
   "metadata": {
    "scrolled": true
   },
   "outputs": [
    {
     "data": {
      "text/plain": [
       "<div class=\"name f5\">Ala ma kota</div>"
      ]
     },
     "execution_count": 39,
     "metadata": {},
     "output_type": "execute_result"
    }
   ],
   "source": [
    "res = soup.select_one(\".name\")\n",
    "res"
   ]
  },
  {
   "cell_type": "markdown",
   "id": "f3582663-e15c-4d1f-ba1a-b0d701ead58b",
   "metadata": {},
   "source": [
    "Szukamy elementow otagowanych span"
   ]
  },
  {
   "cell_type": "code",
   "execution_count": 44,
   "id": "99124f05-07f9-4fd8-82a3-36c7eea2c33c",
   "metadata": {},
   "outputs": [
    {
     "data": {
      "text/plain": [
       "<span>Kot ma Ale</span>"
      ]
     },
     "execution_count": 44,
     "metadata": {},
     "output_type": "execute_result"
    }
   ],
   "source": [
    "res1 = soup.find(\"span\") # Tylko po tagu\n",
    "res1"
   ]
  },
  {
   "cell_type": "code",
   "execution_count": 45,
   "id": "fe159be3-0c42-4660-b2ca-4604427f6506",
   "metadata": {},
   "outputs": [
    {
     "data": {
      "text/plain": [
       "[<span>Kot ma Ale</span>]"
      ]
     },
     "execution_count": 45,
     "metadata": {},
     "output_type": "execute_result"
    }
   ],
   "source": [
    "res2 = soup.select(\"span\") # po dowolnym selektorze\n",
    "res2"
   ]
  },
  {
   "cell_type": "code",
   "execution_count": 46,
   "id": "439aa05c-f271-4dd1-a606-ab143374d031",
   "metadata": {},
   "outputs": [
    {
     "data": {
      "text/plain": [
       "<span>Kot ma Ale</span>"
      ]
     },
     "execution_count": 46,
     "metadata": {},
     "output_type": "execute_result"
    }
   ],
   "source": [
    "res3 = soup.find(\"span\")\n",
    "res3"
   ]
  },
  {
   "cell_type": "code",
   "execution_count": 48,
   "id": "11676d5f-a300-4905-b06a-fe5a5900aacb",
   "metadata": {},
   "outputs": [
    {
     "data": {
      "text/plain": [
       "<span>Kot ma Ale</span>"
      ]
     },
     "execution_count": 48,
     "metadata": {},
     "output_type": "execute_result"
    }
   ],
   "source": [
    "res4 = soup.select_one(\"span\")\n",
    "res4"
   ]
  },
  {
   "cell_type": "markdown",
   "id": "2194cb0d-580b-4003-afb6-f65a57e75f3d",
   "metadata": {},
   "source": [
    "Szukamy elementu o id='dwa'"
   ]
  },
  {
   "cell_type": "code",
   "execution_count": 49,
   "id": "62d0bcd8-4895-4d53-8ead-feb6c544a5c3",
   "metadata": {},
   "outputs": [],
   "source": [
    "res1 = soup.find_all(id=\"dwa\")\n",
    "res2 = soup.select(\"#dwa\")"
   ]
  },
  {
   "cell_type": "code",
   "execution_count": 50,
   "id": "b0eac5c1-3386-4f60-8c05-7e4948cf6325",
   "metadata": {},
   "outputs": [
    {
     "data": {
      "text/plain": [
       "[<li id=\"dwa\">Banan</li>]"
      ]
     },
     "execution_count": 50,
     "metadata": {},
     "output_type": "execute_result"
    }
   ],
   "source": [
    "res1"
   ]
  },
  {
   "cell_type": "code",
   "execution_count": 51,
   "id": "16ceb8ea-bed2-418a-9b72-24468b12cd73",
   "metadata": {},
   "outputs": [
    {
     "data": {
      "text/plain": [
       "[<li id=\"dwa\">Banan</li>]"
      ]
     },
     "execution_count": 51,
     "metadata": {},
     "output_type": "execute_result"
    }
   ],
   "source": [
    "res2"
   ]
  },
  {
   "cell_type": "markdown",
   "id": "85f63dc8-47b4-44a7-b7ec-14f39ca90477",
   "metadata": {},
   "source": [
    "Szukamy elementu o klasie class=\"name\""
   ]
  },
  {
   "cell_type": "code",
   "execution_count": 52,
   "id": "ae819153-8990-44a6-b17c-8aa7cc0d540c",
   "metadata": {},
   "outputs": [],
   "source": [
    "res1 = soup.find_all(class_=\"name\")\n",
    "res2 = soup.select(\".name\")"
   ]
  },
  {
   "cell_type": "code",
   "execution_count": 53,
   "id": "17620f66-129d-4a67-a2c6-be2cdb3afa6b",
   "metadata": {},
   "outputs": [
    {
     "data": {
      "text/plain": [
       "[<div class=\"name f5\">Ala ma kota</div>]"
      ]
     },
     "execution_count": 53,
     "metadata": {},
     "output_type": "execute_result"
    }
   ],
   "source": [
    "res1"
   ]
  },
  {
   "cell_type": "code",
   "execution_count": 54,
   "id": "c8e8453b-45a5-44ac-a6c1-d186e6713979",
   "metadata": {},
   "outputs": [
    {
     "data": {
      "text/plain": [
       "[<div class=\"name f5\">Ala ma kota</div>]"
      ]
     },
     "execution_count": 54,
     "metadata": {},
     "output_type": "execute_result"
    }
   ],
   "source": [
    "res2"
   ]
  },
  {
   "cell_type": "markdown",
   "id": "b93d4ffd-80ee-4e54-b797-2b4181003bc6",
   "metadata": {},
   "source": [
    "Przyklad z zycia - wezmy strone internetowa i webscrappingujmy ja "
   ]
  },
  {
   "cell_type": "code",
   "execution_count": 57,
   "id": "01737c4d-7a55-4f08-b4b8-933c028de5f2",
   "metadata": {},
   "outputs": [
    {
     "data": {
      "text/plain": [
       "<Response [200]>"
      ]
     },
     "execution_count": 57,
     "metadata": {},
     "output_type": "execute_result"
    }
   ],
   "source": [
    "import requests \n",
    "res = requests.get(\"https://interia.pl\")\n",
    "res"
   ]
  },
  {
   "cell_type": "code",
   "execution_count": 58,
   "id": "fe2a73e4-4c69-4ec8-a5df-70db9282ddf2",
   "metadata": {
    "scrolled": true
   },
   "outputs": [],
   "source": [
    "content = res.text"
   ]
  },
  {
   "cell_type": "markdown",
   "id": "ed546257-2b34-49c5-bd10-bdd25d3313a0",
   "metadata": {},
   "source": [
    "dostajemy duzo smieci - musimy ja przeparsowac "
   ]
  },
  {
   "cell_type": "code",
   "execution_count": 59,
   "id": "dea64eeb-ece2-4156-aa8f-2845b80c0b87",
   "metadata": {},
   "outputs": [],
   "source": [
    "soup = BeautifulSoup(content, 'html.parser')"
   ]
  },
  {
   "cell_type": "code",
   "execution_count": 61,
   "id": "5bfa73a0-eeaa-4e4c-916b-2cac69548605",
   "metadata": {
    "scrolled": true
   },
   "outputs": [],
   "source": [
    "titles = soup.select(\".title-text\")"
   ]
  },
  {
   "cell_type": "code",
   "execution_count": 63,
   "id": "82db2e24-cb61-41aa-a0e4-2274726f26ca",
   "metadata": {},
   "outputs": [
    {
     "name": "stdout",
     "output_type": "stream",
     "text": [
      "Razem podjęło decyzję. \"Rząd Donalda Tuska zawiódł ludzi\"\n",
      "Rosjanie chwalą się postępami. Kolejne tereny Ukrainy w rękach okupanta\n",
      "Mistrzowie Polski zaczęli doskonale. Rywale walczą o wyrównanie\n",
      "Zagraniczne media o Andrzeju Dudzie: Atut obronny\n",
      "Pięciu złapali, jeden wciąż ucieka. \"Chcieli dostać się do Moskwy\"\n",
      "Tragiczne odkrycie w Odrze. \"Skrępowane ręce i nogi\"\n",
      "Zapytali Polaków o związki partnerskie. Ponad połowa odpowiedziała zgodnie\n",
      "Wigilia dniem wolnym od pracy? Jest głos z Episkopatu\n",
      "Pena przerwał milczenie ws. Szczęsnego. W Hiszpanii aż huczy\n",
      "Gwiazdy Hollywood nie miały odwagi. Jeden po drugim odmawiali roli\n",
      "Nowy trend w odchudzaniu. \"Coraz więcej Polaków\"\n",
      "Przez budowę tunelu stracili dorobek życia. Mieszkają w hotelu\n",
      "Widzowie tęsknią za legendarnym serialem. Powstaje jego następca\n",
      "Katarzyna Bonda o najnowszej książce \"W głąb\" i psychiatrii dziecięcej \n",
      "Ruszyli przed zakład, chcą wolności dla \"Buddy\". Banery i okrzyki\n",
      "Nietypowa prośba zoo w Polsce. Ludzie na nią zareagowali i wiele zyskali\n",
      "\"Najgorszy silnik świata\" ma konkurencję. Problem dotyczy 760 tys. aut \n",
      "Śmiertelnie jadowity wąż zastawia podstępną pułapkę. Łatwo w nią wpaść\n",
      "Skandal w El Clasico wstrząsnął kibicami. Gwiazda Barcelony ofiarą ataku\n",
      "Jego wyścigi ogląda nawet Kubica. Dramat polskiego talentu. Traci szanse na F1 \n",
      "Słupki rtęci ostro w górę. Na drogach jednak zagrożenie\n",
      "L4 po nowemu. Od listopada zmiany w wystawianiu zwolnień\n",
      "Kosmos niszczy wzrok? Problemy uczestników misji Polaris Dawn\n",
      "Jedz suszony i świeży. Chroni przed starzeniem, infekcjami i cukrzycą\n",
      "Celebrytka odrzuca spadek i planuje zmianę nazwiska. Wszystko dla córki\n",
      "Na wzmocnienie, zbicie cholesterolu i lepsze trawienie. Pij właśnie teraz\n",
      "7/10 to bardzo przyzwoity wynik. Sprawdź swoją wiedzę w historycznym quizie\n",
      "Ida Nowakowska ma imponujące wykształcenie. Szkół tyle, że głowa mała\n",
      "Jego znają w Polsce wszyscy, ale kim jest jego piękna żona?\n",
      "Jak wyglądały jej ostatnie dni? \"Cierpienia Jadzi były niebotyczne\"\n",
      "Rządziły w PRL-u, niedługo o nich zapomnimy. Tych imion już nie nadajemy\n",
      "Historyczny tytuł Polki, 5 godzin i 1 minuta gry. Niebywały powrót w finale\n",
      "Potrzeba było dopiero Lewandowskiego. Wielki wyczyn Polaka w El Clasico\n",
      "Hiszpanie bez litości dla gwiazdy Realu. \"Zrobił z siebie historycznego głupca\"\n",
      "Kłopoty Świątek, przykra wiadomość przed WTA Finals. Sabalenka może świętować\n",
      "Hajto nie wytrzymał po El Clasico. Wziął na celownik Flicka. \"Niemiecki rygor\"\n",
      "Show Roberta Lewandowskiego po El Clasico. Wszystko zostało nagrane\n",
      "Kosmiczny bieg po rekord świata. Niezwykły sprint, padł na kolana za metą\n",
      "Real Madryt CF - FC Barcelona. Skrót meczu. WIDEO (Eleven Sports)\n",
      "Ancelotti ruszył do Flicka, hamulce puściły. Tego nie pokazały kamery\n",
      "\"Lewy\" nie był najlepszy w Madrycie. Wyczyn innego Polaka nie do powtórzenia\n",
      "Dwa sety w meczu mistrzyni olimpijskiej i koniec. Kluczowe wieści dla Świątek \n",
      "Wielki mistrz powrócił na trasy i już punktuje. Niesamowity awans Brazylijczyka\n",
      "Bała się ich cała sportowa Polska. Ruszył z pięściami w obronie brata\n",
      "Nowy zakaz w UE. Od 1 stycznia tego już nie kupisz\n",
      "Nowy obowiązek dla właścicieli psów i kotów. Koszty poniosą sami\n",
      "W tym sezonie nie tylko złoto się świeci. \"Księżycowy metal\" bije rekordy\n",
      "Kiedy można jeździć komunikacją miejską bez biletu?\n",
      "Wigilia w tym roku wolna od pracy? To możliwe\n",
      "Pożyczasz pieniądze od rodziny? Tłumaczymy, co z podatkiem\n",
      "Budowa pomnika utknęła w martwym punkcie. Wciąż nie wiadomo czy powstanie\n",
      "Politycy chcą walczyć z luką płacową. \"Jest opór przedsiębiorców\"\n",
      "Zwolnienie lekarskie i wypłata. Kiedy dostaniesz 100 proc.?\n",
      "Renta rodzinna. Te dokumenty dostarcz do ZUS, 31 października mija termin\n",
      "Czy fotoradary mają tolerancję? O ile można przekroczyć prędkość?\n",
      "Pędziła pod prąd prosto na inne pojazdy. Nawet nie dotknęła hamulca\n",
      "Samemu wymieniasz opony? Lekarze na SOR tylko na to czekają\n",
      "Nowy odcinek zakopianki spowodował nowe korki. Miastu grozi paraliż\n",
      "52-latkę czeka więzienie. Wszystko przez nagranie z internetu\n",
      "Rewolucja na MOP-ach w Polsce. Pojawi się na nich kluczowe rozwiązanie\n",
      "Coraz więcej wypadków z udziałem pieszych. Czy to efekt zmian w przepisach?\n",
      "Czy pieszy ma pierwszeństwo, jeśli nie przechodzi po przejściu?\n",
      "Polacy rzucili się po rozbite auta z USA. Gigantyczny wzrost \n",
      "Kierowcy widzą znak B-32c i nie wiedzą - można jechać czy trzeba zawrócić\n",
      "Kluczowa obwodnica na Śląsku wreszcie będzie dokończona. Padły terminy\n",
      "Pani Elżbieta ma 70 lat i żałuje jednego. Dziś przestrzega młode pokolenie\n",
      "Ile dać na wypominki? Podajemy konkretne kwoty \n",
      "Aromat rozchodzi sie po całym domu. Tradycyjny staropolski przepis!\n",
      "Co zrobić, by znicz palił się dłużej? Bardzo prosty trik\n",
      "Jesienny kociołek nie tylko na chłodne dni\n",
      "Ma więcej polifenoli niż jabłka. W proszku zastąpi ci cukier i słodziki\n",
      "To klucz do zdrowego śniadania. Zajadaj ze smakiem każdego ranka\n",
      "Jak pielęgnować siwe włosy? Kluczowy jeden zabieg \n",
      "Do starszych mówią jak do dzieci. Tę szkodliwą formę uznano za przemoc\n",
      "\"Ewa gotuje\": Zupa pomidorowa z pstrągiem\n",
      "Przelewanie i bulgotanie w jelitach to zły znak. Odwiedź gastroenterologa\n",
      "Domowa herbata na odporność i stany zapalne. Trzy zdrowe składniki\n",
      "Jest przyjemniejsza w smaku i ma mnóstwo witamin. Zastąpi zwykłą rzodkiewkę\n",
      "\"Rajski ptak\" w doniczce. Zapamiętaj zasady, oczaruje cię trwałymi kwiatami\n",
      "Łatwe ćwiczenie całego ciała. Spalisz dużo kalorii, wzmocnisz brzuch\n",
      "Babcia gotowała ją co drugi dzień. Bomba witamin, do tego pyszna!\n",
      "Prosty i aromatyczny sos sałatkowy. Do zrobienia w mniej niż minutę\n",
      "Zresetowali rzekę i zmienili jej nurt. Efekt zaskoczył nawet niedowiarków\n",
      "Dobre wieści dla posiadaczy kilkuletnich sprzętów do TV\n",
      "20 niezwykle dochodowych marek w rękach jednej firmy z USA. Jakiej?\n",
      "Fani popularnej marki samochodów nie mogą przejść obojętnie obok tej informacji\n",
      "Ile godzin ma doba? Czas na quiz o... czasie. 8/10 to już sukces\n",
      "Wirtualny przedmiot w grze za 339 zł - to dużo czy mało?\n",
      "Skąd węgiel wziął się w Układzie Słonecznym? Nowe odkrycie może to wyjaśnić\n",
      "\"Niebieski jeż\" powrócił! Hit końcówki 2024 roku?\n",
      "Wskrzeszą mitycznego ptaka. Powoduje obsesję u ludzi\n",
      "Praca na stojąco? Stanie nie jest wcale zdrowsze od siedzenia\n",
      "Czym jest czas? Rozmawiamy z fizykiem i geografem o naturze czasu\n",
      "Sztuczna inteligencja pilnuje lekarzy. Sprawdza, jakie leki podają\n",
      "Mars ma lód, który może sprzyjać życiu. Potwierdzają to badania\n",
      "Halloweenowy zestaw horrorów na Netflix. Filmy, które przerażają \n",
      "Karkówka po cygańsku. Zrób, a nie pożałujesz\n",
      "Rosół, jakiego jeszcze nie jadłeś. Ewa Wachowicz dodaje sekretny składnik \n",
      "Szybka sałatka dla gości\n",
      "Zniknie ze stołu, zanim zdąży dobrze ostygnąć\n",
      "Idealnie miękkie ciasto na pierogi\n",
      "Biją na głowę zwykłe śledzie. Delikatniejsze, tańsze, uchodzą za przysmak\n",
      "Tradycyjne danie peerelowskich jadłodajni. Podbija serca smakoszy\n",
      "Roladki studenckie - przepis, do którego warto wracać\n",
      "Skrop mięso. Kotlety zachwycą chrupiącą skórką i delikatnym środkiem\n",
      "Obiad dla gości na Wszystkich Świętych\n",
      "Puszysty jak chmurka omlet. Smakowite śniadanie z prostych składników \n",
      "Tańsza alternatywa dla AC. Nie każdy kierowca zna tę opcję\n",
      "Najmodniejszy płaszcz sezonu. Pasuje do wszystkiego, a przy tym wyszczupla\n",
      "Mieszkanie jak z katalogu bez wydawania fortuny. Nowa usługa robi furorę\n",
      "Już nie tylko starsze osoby. Choroba może dotknąć każdego\n",
      "To koniec. Gwiazdy potwierdziły rozstanie na antenie. I to w 6. rocznicę\n",
      "Zwrot akcji ws. Badacha i Szpaka. Zaskakujące sceny na antenie\n",
      "Drzyzga nie chciała mieszkać w centrum miasta. Dojeżdża do pracy 300 km\n",
      "Sikora odpowiada na pytania o drugą połówkę. Teraz wszystko jasne\n",
      "Prawda ws. przeszłości Dębskiej wyszła na jaw. Nagle ogłosiła\n",
      "Przepowiedziała, co czeka nas od 28 października. Nie będzie za różowo\n",
      "W listopadzie otworzy się \"numerologiczna brama\". Oto co nas czeka \n",
      "Doda już tego nie ukrywa. Tak wygląda stan zdrowia jej ukochanego pupila\n",
      "Rosati lansuje się w halloweenowej kreacji. Niebywałe, za kogo się przebrała\n",
      "Wojciechowska skończyła 50 lat i zalała się łzami. Wyszło, dlaczego...\n",
      "Marta Żmuda Trzebiatowska ujawnia zmagania z chorobą. \"Wracam do siebie\"\n",
      "Do Justyny Gradek los znów się uśmiechnął. Znalazła kolejnego bogacza\n",
      "Fani nie mają już wątpliwości ws. Grzeszczak i Buzały. Chodzi o zdjęcia\n",
      "Gwiazdy na koncercie \"Nadzieja-Razem dla Was!\". Wiadomo, co z gażami\n",
      "Ewa Mrozowska unika pracy z celebrytami. Ma ku temu ważny powód\n",
      "Sandra Kubicka padła ofiarą nękania w klubie. \"Uciekałam przed creepem\"\n",
      "\"M jak miłość\": Wszystkie kłamstwa Martyny ujrzą światło dzienne\n",
      "Przejmujący komunikat żony Borysa Szyca. \"Jestem wrakiem\" \n",
      "Skompromitowany aktor wraca na ekrany. Skandal odbił się szerokim echem\n",
      "Dopiero co kręcił w Polsce film. Otrzymał wyjątkowe wyróżnienie\n",
      "Koniec zdjęć do 4. sezonu Wiedźmina. Kiedy premiera?\n",
      "Wypełnij krótką ankietę i oceń nasze serwisy!\n",
      "Widzowie grzmią po koncercie w TVP. \"Gwiazdy zrzekną się honorarium?\"\n",
      "Modelki błyskawicznie podbiły Polskę. \"Nie obyło się bez błędów\"\n",
      "Hollywoodzka gwiazda rozkwita na salonach! To jej druga ciąża \n",
      "Netflix wyłożył miliony. Film zbiera mieszane opinie\n",
      "Przez 20 lat walczyły o niezależność. Co słychać u znanych bliźniaczek?\n",
      "Zagrał epizod w \"Titanicu\". Wciąż zgarnia tantiemy \n",
      "TVP ujawniło, czy artyści zarobią na charytatywnym koncercie. Jest jasny...\n",
      "Jako młoda artystka szokowała wizerunkiem. Co robi dzisiaj?\n",
      "\"Gwiazdowski mówi Interii\"\n",
      "\"Zbliżenia\" Alicji Resich \n",
      "Białkowski Zielona Interia\n",
      "\"Zdanowicz pomiędzy wersami\"\n",
      "Duża ryba nie dała za wygraną. Skończył w wodzie\n",
      "Głodny wielbłąd nie oszczędził turystki\n",
      "Mrożące krew w żyłach nagranie. Co za prędkość!\n",
      "Pies prowadzi... konia na smyczy. Zabawne wideo\n",
      "Kot dostał głupawki. Ale wybryki!\n",
      "Ukłon i smakołyk. Niezwykłe podziękowanie\n",
      "Lepiej nie zadzierać z głodnymi kozami\n",
      "Piękna sceneria. Niestety ucierpiał dron\n",
      "Kup w aptece i dodaj do pralki. Ręczniki będą mięciutkie i puszyste\n",
      "Obniża cholesterol, wymiata złogi, wspomaga jelita. Jedz zamiast mięsa\n",
      "Jak zrobić domowy proszek do zmywarki?\n",
      "Wybierz jedno pióro z pięciu. Dowiesz się ważnej rzeczy o sobie\n",
      "Połącz z ciepłym mlekiem i wypij na noc. Zyskasz lepszy sen i płaski brzuch\n",
      "Wyrośnięte ciasto z owocami. Prosty trik, który uchroni przed zakalcem\n",
      "Choroba, która powoli odbiera sprawność. Coraz więcej przypadków sarkopenii\n",
      "Błędy w wapnowaniu gleby jesienią. Wyrządzisz więcej szkód niż pożytku\n",
      "Ma niewielkie wymagania, za to wygląda zjawiskowo\n",
      "Te warzywa zbierz dopiero po solidnym przechłodzeniu\n",
      "Najgroźniejsze szkodniki tui - niektóre potrafią zniszczyć cały krzew\n",
      "Co zrobić, żeby nie śmierdziało z kompostownika? Wystarczy jedna rzecz\n",
      "Co zrobić ze spadami owoców. Gdzie wyrzucać, czy można je kompostować?\n",
      "Byliny wieloletnie, które długo kwitną. Zioła, kwiaty i solitery\n",
      "Podczas sadzenia wymieszaj z podłożem. To pomoc dla roślin cebulowych\n",
      "Zapomniane warzywo wraca do ogrodów. Wężymord – uprawa i zastosowanie\n",
      "Podkreśla kobiece piękno\n",
      "Portfolio, które cię zainteresuje\n",
      "Prostota i elegancja we wnętrzu \n",
      "Mistrzowski specjał z przepisu Marioli\n",
      "Galeria fantastycznych ujęć\n",
      "Unikatowa energia\n",
      "Zmysłowość w portretach\n",
      "Świetny pomysł na rodzinny obiad\n",
      "Zielony wir w jeziorze. Jak wytłumaczyć to zjawisko?\n",
      "Weekendowy rarytas\n",
      "Rewelacyjny smalec bez grama mięsa\n",
      "Ponadczasowy salon w bieli i beżu\n",
      "Tajemnica masywu Tamu. Największy wulkan świata ukryty pod falami Pacyfiku?\n",
      "Pyszna sałatka na każdą okazję\n",
      "Pomysł na jesienny ogród \n",
      "Aranżacja ogrodu z pomysłem \n",
      "Wejdź do krainy słodkości i zagraj w Candy Rain 6!\n",
      "Zagraj w Butterfly Kyodai - kultową grę mahjong!\n",
      "Lubisz łamigłówki? Zagraj w Wood Block Journey!\n",
      "Zagraj w Kulki - tylko 10% graczy zdobyło 20 000 punktów. \n",
      "Autorski videocast Roberta Gwiazdowskiego, w którym komentuje bieżącą sytuację gospodarczą w Polsce.\n",
      "Cykl videocastów ekologicznych \"Przemysław Białkowski podcast\" w serwisie Zielona Interia.\n",
      "Zdanowicz pomiędzy wersami to podcast video, którego nowe odcinki co tydzień można oglądać na łamach Interii.\n",
      "Nieoczywiste tematy, odważne pytania i różnorodne perspektywy prezentowane przez gości.\n",
      "\"Zbliżenia\" Alicji Resich \n"
     ]
    }
   ],
   "source": [
    "for title in titles:\n",
    "    print(title.text)"
   ]
  },
  {
   "cell_type": "code",
   "execution_count": null,
   "id": "f5f162fb-f024-4053-83bf-cd20dabf1b1a",
   "metadata": {},
   "outputs": [],
   "source": []
  }
 ],
 "metadata": {
  "kernelspec": {
   "display_name": "Python 3 (ipykernel)",
   "language": "python",
   "name": "python3"
  },
  "language_info": {
   "codemirror_mode": {
    "name": "ipython",
    "version": 3
   },
   "file_extension": ".py",
   "mimetype": "text/x-python",
   "name": "python",
   "nbconvert_exporter": "python",
   "pygments_lexer": "ipython3",
   "version": "3.12.3"
  }
 },
 "nbformat": 4,
 "nbformat_minor": 5
}
