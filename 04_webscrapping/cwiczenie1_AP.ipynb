{
 "cells": [
  {
   "cell_type": "markdown",
   "id": "7726bafe-8c3a-40ac-90fb-aa34f7ac0787",
   "metadata": {},
   "source": [
    "### [NBP](https://www.nbp.pl/)"
   ]
  },
  {
   "cell_type": "markdown",
   "id": "c92475e3-9b58-422b-9ca5-e83da2c6f873",
   "metadata": {},
   "source": [
    "#### To zadanie nie zadziała, bo strona ma zabezpieczenie. Żeby je obejść patrz cwiczenie3.ipynb.\n",
    "\n",
    "To zadanie ma na celu przetestowanie, czy wszystkie potrzebne biblioteki i sterowniki są zainstalowane poprawnie. \n",
    "Jeśli wszystko działa zgodnie z planem, na końcu zobaczysz kursy pięciu walut odczytane ze strony Narodowego Banku Polskiego."
   ]
  },
  {
   "cell_type": "code",
   "execution_count": 1,
   "id": "04a020bc-a276-45d0-9ff7-765fc1f115b4",
   "metadata": {},
   "outputs": [],
   "source": [
    "url = \"https://nbp.pl/\""
   ]
  },
  {
   "cell_type": "code",
   "execution_count": 12,
   "id": "da5af02f-5cd1-4526-9beb-405e7fd201e5",
   "metadata": {},
   "outputs": [
    {
     "data": {
      "text/plain": [
       "<Response [200]>"
      ]
     },
     "execution_count": 12,
     "metadata": {},
     "output_type": "execute_result"
    }
   ],
   "source": [
    "import requests\n",
    "headers = {\n",
    "    \"User-Agent\": \"Mozilla/5.0 (Windows NT 10.0; Win64; x64) AppleWebKit/537.36 (KHTML, like Gecko) Chrome/130.0.0.0 Safari/537.36 Edg/130.0.0.0\"\n",
    "}\n",
    "res = requests.get(url, headers=headers)\n",
    "res"
   ]
  },
  {
   "cell_type": "code",
   "execution_count": 13,
   "id": "8551fbca-0349-40f9-acba-1d71e271e7c9",
   "metadata": {},
   "outputs": [
    {
     "data": {
      "text/plain": [
       "'<html style=\"height:100%\"><head><META NAME=\"ROBOTS\" CONTENT=\"NOINDEX, NOFOLLOW\"><meta name=\"format-detection\" content=\"telephone=no\"><meta name=\"viewport\" content=\"initial-scale=1.0\"><meta http-equiv=\"X-UA-Compatible\" content=\"IE=edge,chrome=1\"></head><body style=\"margin:0px;height:100%\"><iframe id=\"main-iframe\" src=\"/_Incapsula_Resource?SWUDNSAI=31&xinfo=7-131699284-0%200CNN%20RT%281730041094723%2072%29%20q%280%20-1%20-1%20-1%29%20r%280%20-1%29%20B12%284%2c315%2c0%29&incident_id=687000170333037462-681149553691264071&edet=12&cinfo=04000000&rpinfo=0&cts=Q5IZY%2bNbzHXT3yIDDXr4vseb0cOWkbmLkqoDWvDs9H9HQrkn0efeKFkIVmQxd6tU&mth=GET\" frameborder=0 width=\"100%\" height=\"100%\" marginheight=\"0px\" marginwidth=\"0px\">Request unsuccessful. Incapsula incident ID: 687000170333037462-681149553691264071</iframe></body></html>'"
      ]
     },
     "execution_count": 13,
     "metadata": {},
     "output_type": "execute_result"
    }
   ],
   "source": [
    "res.text"
   ]
  },
  {
   "cell_type": "code",
   "execution_count": null,
   "id": "f32d73ae-e071-4568-8c3b-59d4d3a884f9",
   "metadata": {},
   "outputs": [],
   "source": []
  }
 ],
 "metadata": {
  "kernelspec": {
   "display_name": "Python 3 (ipykernel)",
   "language": "python",
   "name": "python3"
  },
  "language_info": {
   "codemirror_mode": {
    "name": "ipython",
    "version": 3
   },
   "file_extension": ".py",
   "mimetype": "text/x-python",
   "name": "python",
   "nbconvert_exporter": "python",
   "pygments_lexer": "ipython3",
   "version": "3.12.3"
  }
 },
 "nbformat": 4,
 "nbformat_minor": 5
}
