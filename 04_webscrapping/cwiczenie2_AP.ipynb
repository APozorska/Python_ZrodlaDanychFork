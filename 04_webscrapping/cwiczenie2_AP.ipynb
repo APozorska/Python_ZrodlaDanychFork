{
 "cells": [
  {
   "cell_type": "markdown",
   "id": "2973828b-c422-446c-95e9-cad96d3e7043",
   "metadata": {},
   "source": [
    "### [IMDb](https://www.imdb.com)"
   ]
  },
  {
   "cell_type": "markdown",
   "id": "6ae08d9d-b4c0-4d0f-87b8-8728870287fe",
   "metadata": {},
   "source": [
    "Napisz program, który pobiera informacje o najpopularniejszych filmach z platformy IMDb i wyświetla je w formie DataFrame, zawierającej kolumny takie jak tytuł filmu, rok produkcji, ocena IMDb oraz główne gatunki."
   ]
  },
  {
   "cell_type": "code",
   "execution_count": 4,
   "id": "2a04e9ec-50d5-43a5-aa7f-2f99339f7cf7",
   "metadata": {},
   "outputs": [
    {
     "data": {
      "text/plain": [
       "<Response [200]>"
      ]
     },
     "execution_count": 4,
     "metadata": {},
     "output_type": "execute_result"
    }
   ],
   "source": [
    "import requests\n",
    "\n",
    "url = \"https://www.imdb.com/chart/top/\"\n",
    "headers = {\n",
    "    \"User-Agent\": \"Mozilla/5.0 (Windows NT 10.0; Win64; x64) AppleWebKit/537.36 (KHTML, like Gecko) Chrome/130.0.0.0 Safari/537.36 Edg/130.0.0.0\"\n",
    "}\n",
    "res = requests.get(url, headers=headers)\n",
    "res"
   ]
  },
  {
   "cell_type": "code",
   "execution_count": 6,
   "id": "6c4dc2b8-d00d-44ca-9c97-90694df2fa36",
   "metadata": {
    "scrolled": true
   },
   "outputs": [],
   "source": [
    "content = res.text"
   ]
  },
  {
   "cell_type": "code",
   "execution_count": 7,
   "id": "83301203-d969-4fc1-bf55-1ade86da7b74",
   "metadata": {},
   "outputs": [],
   "source": [
    "from bs4 import BeautifulSoup\n",
    "\n",
    "soup = BeautifulSoup(content, 'html.parser')"
   ]
  },
  {
   "cell_type": "code",
   "execution_count": 13,
   "id": "83c948c9-3c3a-48e5-835b-5fb34c42365e",
   "metadata": {
    "scrolled": true
   },
   "outputs": [],
   "source": [
    "movies = soup.select(\".ipc-title__text\")"
   ]
  },
  {
   "cell_type": "code",
   "execution_count": 16,
   "id": "d6652e40-45eb-4213-ae98-d8eaee7b7165",
   "metadata": {
    "scrolled": true
   },
   "outputs": [
    {
     "name": "stdout",
     "output_type": "stream",
     "text": [
      "IMDb Charts\n",
      "IMDb Top 250 Movies\n",
      "1. Skazani na Shawshank\n",
      "2. Ojciec chrzestny\n",
      "3. Mroczny Rycerz\n",
      "4. Ojciec chrzestny II\n",
      "5. Dwunastu gniewnych ludzi\n",
      "6. Władca Pierścieni: Powrót króla\n",
      "7. Lista Schindlera\n",
      "8. Pulp Fiction\n",
      "9. Władca Pierścieni: Drużyna Pierścienia\n",
      "10. Dobry, zły i brzydki\n",
      "11. Forrest Gump\n",
      "12. Władca Pierścieni: Dwie wieże\n",
      "13. Podziemny krąg\n",
      "14. Incepcja\n",
      "15. Gwiezdne wojny: Część V - Imperium kontratakuje\n",
      "16. Matrix\n",
      "17. Chłopcy z ferajny\n",
      "18. Lot nad kukułczym gniazdem\n",
      "19. Interstellar\n",
      "20. Siedem\n",
      "21. To wspaniałe życie\n",
      "22. Siedmiu samurajów\n",
      "23. Milczenie owiec\n",
      "24. Szeregowiec Ryan\n",
      "25. Miasto Boga\n",
      "Recently viewed\n"
     ]
    }
   ],
   "source": [
    "for movie in movies:\n",
    "    print(movie.text)"
   ]
  }
 ],
 "metadata": {
  "kernelspec": {
   "display_name": "Python 3 (ipykernel)",
   "language": "python",
   "name": "python3"
  },
  "language_info": {
   "codemirror_mode": {
    "name": "ipython",
    "version": 3
   },
   "file_extension": ".py",
   "mimetype": "text/x-python",
   "name": "python",
   "nbconvert_exporter": "python",
   "pygments_lexer": "ipython3",
   "version": "3.12.3"
  }
 },
 "nbformat": 4,
 "nbformat_minor": 5
}
