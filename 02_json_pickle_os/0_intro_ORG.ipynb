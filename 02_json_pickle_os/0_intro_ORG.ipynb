{
 "cells": [
  {
   "cell_type": "markdown",
   "id": "8b698e98-9715-443d-a660-2b9ff4836e55",
   "metadata": {},
   "source": [
    "### Omówienie najpopularniejszych formatów tekstowych"
   ]
  },
  {
   "cell_type": "code",
   "execution_count": null,
   "id": "7d5a3e3e-87ad-4f41-8ada-026248b7c48a",
   "metadata": {},
   "outputs": [],
   "source": []
  }
 ],
 "metadata": {
  "kernelspec": {
   "display_name": "Python 3 (ipykernel)",
   "language": "python",
   "name": "python3"
  },
  "language_info": {
   "codemirror_mode": {
    "name": "ipython",
    "version": 3
   },
   "file_extension": ".py",
   "mimetype": "text/x-python",
   "name": "python",
   "nbconvert_exporter": "python",
   "pygments_lexer": "ipython3",
   "version": "3.12.3"
  }
 },
 "nbformat": 4,
 "nbformat_minor": 5
}
