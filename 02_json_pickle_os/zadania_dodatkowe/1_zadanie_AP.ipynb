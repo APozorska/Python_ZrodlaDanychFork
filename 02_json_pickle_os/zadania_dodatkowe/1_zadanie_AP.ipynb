{
 "cells": [
  {
   "cell_type": "markdown",
   "id": "df2f1d94-ac77-4868-b107-62ebde3eb4c9",
   "metadata": {},
   "source": [
    "### Wczytywanie danych w formacie json\n",
    "\n",
    "Plik `products.json` zawiera dane o produktach w sklepie zapisane w formacie `json`. Twoim zadaniem jest wczytanie danych z tego pliku, a następnie wyciągnięcie i wyświetlenie informacji o produkcie o najwyższej cenie. Dodatkowo, wyświetl listę wszystkich produktów, które są dostępne w magazynie."
   ]
  },
  {
   "cell_type": "code",
   "execution_count": 2,
   "id": "4243ead1-ac23-4fd6-9b34-9015799aa852",
   "metadata": {},
   "outputs": [
    {
     "data": {
      "text/plain": [
       "{'products': [{'name': 'Laptop',\n",
       "   'category': 'Electronics',\n",
       "   'price': 1200,\n",
       "   'in_stock': True},\n",
       "  {'name': 'Headphones',\n",
       "   'category': 'Electronics',\n",
       "   'price': 150,\n",
       "   'in_stock': False},\n",
       "  {'name': 'Coffee Maker',\n",
       "   'category': 'Home Appliances',\n",
       "   'price': 100,\n",
       "   'in_stock': True},\n",
       "  {'name': 'Book', 'category': 'Books', 'price': 20, 'in_stock': True},\n",
       "  {'name': 'Desk Lamp',\n",
       "   'category': 'Furniture',\n",
       "   'price': 35,\n",
       "   'in_stock': False}]}"
      ]
     },
     "execution_count": 2,
     "metadata": {},
     "output_type": "execute_result"
    }
   ],
   "source": [
    "# Wczytywanie pliku JSON\n",
    "import json \n",
    "with open('products.json', encoding='utf-8') as file_obj:\n",
    "    data = json.load(file_obj)\n",
    "data"
   ]
  },
  {
   "cell_type": "code",
   "execution_count": 14,
   "id": "cfa5e8b7-5875-42b5-ab1c-ee5b5a7b6511",
   "metadata": {},
   "outputs": [],
   "source": [
    "# Znalezienie produktu o najwyższej cenie (beginner version)\n"
   ]
  },
  {
   "cell_type": "code",
   "execution_count": 4,
   "id": "7a2896cf-d13a-4f9b-9a18-9f00e5ca3f61",
   "metadata": {
    "scrolled": true
   },
   "outputs": [
    {
     "data": {
      "text/plain": [
       "{'name': 'Laptop', 'category': 'Electronics', 'price': 1200, 'in_stock': True}"
      ]
     },
     "execution_count": 4,
     "metadata": {},
     "output_type": "execute_result"
    }
   ],
   "source": [
    "# Znalezienie produktu o najwyższej cenie (pro version)\n",
    "res = max(data['products'], key=lambda item: item['price'])\n",
    "res"
   ]
  },
  {
   "cell_type": "code",
   "execution_count": 8,
   "id": "dab07655-4d1c-42ee-b0e1-78eb9b312e18",
   "metadata": {
    "collapsed": true,
    "jupyter": {
     "outputs_hidden": true
    },
    "scrolled": true
   },
   "outputs": [
    {
     "name": "stdout",
     "output_type": "stream",
     "text": [
      "{'name': 'Laptop', 'category': 'Electronics', 'price': 1200, 'in_stock': True}\n",
      "{'name': 'Coffee Maker', 'category': 'Home Appliances', 'price': 100, 'in_stock': True}\n",
      "{'name': 'Book', 'category': 'Books', 'price': 20, 'in_stock': True}\n"
     ]
    }
   ],
   "source": [
    "# Wyświetlenie produktów dostępnych w magazynie (beginner version)\n",
    "for product in data['products']:\n",
    "    if product['in_stock'] == True:\n",
    "        print(product)"
   ]
  },
  {
   "cell_type": "code",
   "execution_count": 9,
   "id": "9d44ea45-64eb-4911-933b-bef6ac0c4bb3",
   "metadata": {
    "scrolled": true
   },
   "outputs": [
    {
     "data": {
      "text/plain": [
       "[{'name': 'Laptop',\n",
       "  'category': 'Electronics',\n",
       "  'price': 1200,\n",
       "  'in_stock': True},\n",
       " {'name': 'Coffee Maker',\n",
       "  'category': 'Home Appliances',\n",
       "  'price': 100,\n",
       "  'in_stock': True},\n",
       " {'name': 'Book', 'category': 'Books', 'price': 20, 'in_stock': True}]"
      ]
     },
     "execution_count": 9,
     "metadata": {},
     "output_type": "execute_result"
    }
   ],
   "source": [
    "# Wyświetlenie produktów dostępnych w magazynie (pro version)\n",
    "res = [product for product in data['products'] if product['in_stock'] == True]\n",
    "res"
   ]
  }
 ],
 "metadata": {
  "kernelspec": {
   "display_name": "Python 3 (ipykernel)",
   "language": "python",
   "name": "python3"
  },
  "language_info": {
   "codemirror_mode": {
    "name": "ipython",
    "version": 3
   },
   "file_extension": ".py",
   "mimetype": "text/x-python",
   "name": "python",
   "nbconvert_exporter": "python",
   "pygments_lexer": "ipython3",
   "version": "3.12.3"
  }
 },
 "nbformat": 4,
 "nbformat_minor": 5
}
