{
 "cells": [
  {
   "cell_type": "markdown",
   "id": "8b698e98-9715-443d-a660-2b9ff4836e55",
   "metadata": {},
   "source": [
    "### Omówienie najpopularniejszych formatów tekstowych"
   ]
  },
  {
   "cell_type": "markdown",
   "id": "ca22abdc-c2e4-42e3-8136-863e5c89c76f",
   "metadata": {},
   "source": [
    "CSV (comma seperated value) [dcv, ssp, tsv]\n"
   ]
  },
  {
   "cell_type": "markdown",
   "id": "413178fc-8d26-4e86-b7ee-488d278ab24b",
   "metadata": {
    "jp-MarkdownHeadingCollapsed": true
   },
   "source": [
    "XML (X-tended ...) \n",
    "Tworzenie wlasnych znacznikow\n"
   ]
  },
  {
   "cell_type": "markdown",
   "id": "cb1df69b-9a7b-450c-94f7-ed37bcf1671c",
   "metadata": {},
   "source": [
    "JSON (JavaScript Object Notation)"
   ]
  },
  {
   "cell_type": "markdown",
   "id": "aee73601-2ced-4aa7-a9e4-e5097147a7b3",
   "metadata": {},
   "source": [
    "najpopularniejszy do przechowywania i zapisywania danych"
   ]
  },
  {
   "cell_type": "code",
   "execution_count": null,
   "id": "07ebc1bd-1864-40ed-a8dd-2d06d174c333",
   "metadata": {},
   "outputs": [],
   "source": []
  }
 ],
 "metadata": {
  "kernelspec": {
   "display_name": "Python 3 (ipykernel)",
   "language": "python",
   "name": "python3"
  },
  "language_info": {
   "codemirror_mode": {
    "name": "ipython",
    "version": 3
   },
   "file_extension": ".py",
   "mimetype": "text/x-python",
   "name": "python",
   "nbconvert_exporter": "python",
   "pygments_lexer": "ipython3",
   "version": "3.12.3"
  }
 },
 "nbformat": 4,
 "nbformat_minor": 5
}
