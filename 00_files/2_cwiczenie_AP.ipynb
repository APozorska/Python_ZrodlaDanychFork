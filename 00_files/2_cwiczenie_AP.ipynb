{
 "cells": [
  {
   "cell_type": "markdown",
   "id": "92e35a48-19f2-46ed-8b41-47d153837bdb",
   "metadata": {},
   "source": [
    "### Zadanie - Liczenie słów w pliku tekstowym"
   ]
  },
  {
   "cell_type": "markdown",
   "id": "d742fbbb-db34-4105-a25e-f3ef6c6ef29e",
   "metadata": {},
   "source": [
    "Plik tekstowy `text.txt` zawiera tekst z polskimi znakami diakrytycznymi. Plik ten jest zapisany w kodowaniu UTF-8. Twoim zadaniem jest napisać skrypt w Pythonie, który otworzy ten plik, odczyta jego zawartość, policzy liczbę słów w pliku, a następnie wyświetli tę liczbę.\n",
    "\n",
    "Rozwiązanie:\n",
    "\n",
    "A. Użyj funkcji open, aby otworzyć plik w trybie do odczytu. \\\n",
    "B. Upewnij się, że podasz odpowiednie kodowanie (utf-8). \\\n",
    "C. Odczytaj zawartość pliku za pomocą metody read. \\\n",
    "D. Policz słowa w odczytanym tekście. \\\n",
    "E. Wyświetl liczbę słów. \\\n",
    "F. Zapisz otrzymany wynik do pliku `result.txt`"
   ]
  },
  {
   "cell_type": "code",
   "execution_count": 1,
   "id": "844ae881-46fa-4f54-b7bd-68ea01b71e90",
   "metadata": {},
   "outputs": [
    {
     "name": "stdout",
     "output_type": "stream",
     "text": [
      "To jest przykładowy plik tekstowy.\n",
      "Zawiera kilka wierszy tekstu.\n",
      "Każdy wiersz może mieć różną długość.\n"
     ]
    }
   ],
   "source": [
    "# Rozwiązanie\n",
    "with open('text.txt', 'r', encoding='utf-8') as file_obj:\n",
    "    content = file_obj.read()\n",
    "print(content)"
   ]
  },
  {
   "cell_type": "code",
   "execution_count": 2,
   "id": "d106836c-2a4a-45e7-8857-0b07f85899c0",
   "metadata": {},
   "outputs": [
    {
     "data": {
      "text/plain": [
       "['To',\n",
       " 'jest',\n",
       " 'przykładowy',\n",
       " 'plik',\n",
       " 'tekstowy.',\n",
       " 'Zawiera',\n",
       " 'kilka',\n",
       " 'wierszy',\n",
       " 'tekstu.',\n",
       " 'Każdy',\n",
       " 'wiersz',\n",
       " 'może',\n",
       " 'mieć',\n",
       " 'różną',\n",
       " 'długość.']"
      ]
     },
     "execution_count": 2,
     "metadata": {},
     "output_type": "execute_result"
    }
   ],
   "source": [
    "words = content.split()\n",
    "words"
   ]
  },
  {
   "cell_type": "code",
   "execution_count": 4,
   "id": "ad487808-ade7-46e1-b07e-2ae96c8184fd",
   "metadata": {},
   "outputs": [
    {
     "data": {
      "text/plain": [
       "15"
      ]
     },
     "execution_count": 4,
     "metadata": {},
     "output_type": "execute_result"
    }
   ],
   "source": [
    "word_count = len(words)\n",
    "word_count"
   ]
  },
  {
   "cell_type": "code",
   "execution_count": 7,
   "id": "42968d18-c5b8-402a-bb61-b3046c1adbfe",
   "metadata": {},
   "outputs": [
    {
     "name": "stdout",
     "output_type": "stream",
     "text": [
      "Liczba słów w pliku: 15\n"
     ]
    }
   ],
   "source": [
    "msg = f\"Liczba słów w pliku: {word_count}\"\n",
    "print(msg)"
   ]
  },
  {
   "cell_type": "code",
   "execution_count": 9,
   "id": "cf03f493-4020-4caf-8a26-2dc3ff9e4986",
   "metadata": {},
   "outputs": [],
   "source": [
    "with open('result.txt', 'w', encoding='utf-8') as f: \n",
    "    f.write(msg)"
   ]
  },
  {
   "cell_type": "code",
   "execution_count": null,
   "id": "b64ab667-7666-44f0-b940-68294ad7bfdf",
   "metadata": {},
   "outputs": [],
   "source": []
  }
 ],
 "metadata": {
  "kernelspec": {
   "display_name": "Python 3 (ipykernel)",
   "language": "python",
   "name": "python3"
  },
  "language_info": {
   "codemirror_mode": {
    "name": "ipython",
    "version": 3
   },
   "file_extension": ".py",
   "mimetype": "text/x-python",
   "name": "python",
   "nbconvert_exporter": "python",
   "pygments_lexer": "ipython3",
   "version": "3.12.3"
  }
 },
 "nbformat": 4,
 "nbformat_minor": 5
}
