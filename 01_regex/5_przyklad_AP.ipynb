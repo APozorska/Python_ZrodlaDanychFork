{
 "cells": [
  {
   "cell_type": "markdown",
   "id": "616d74fa-207e-4156-81ea-750b1f46d383",
   "metadata": {},
   "source": [
    "### Przykład IV: Praca z plikiem HTML\n",
    "\n",
    "#### Opis:\n",
    "Plik `strona.html` zawiera kod prostej strony internetowej. Twoim zadaniem jest napisać skrypt w Pythonie, który wykona różne operacje na zawartości pliku HTML za pomocą wyrażeń regularnych (regex):\n",
    "\n",
    "1. Znajdź wszystkie tytuły strony\n",
    "2. Znajdź wszystkie nagłówki H1\n",
    "3. Znajdź wszystkie linki (adresy URL)\n",
    "4. Znajdź wszystkie adresy e-mail\n",
    "5. Znajdź wszystkie paragrafy"
   ]
  },
  {
   "cell_type": "code",
   "execution_count": 2,
   "id": "42ffb29b-36cb-4a58-8605-bf4bb7d20e37",
   "metadata": {},
   "outputs": [
    {
     "name": "stdout",
     "output_type": "stream",
     "text": [
      "<!DOCTYPE html>\n",
      "<html lang=\"pl\">\n",
      "<head>\n",
      "    <meta charset=\"UTF-8\">\n",
      "    <title>Przykładowa strona</title>\n",
      "</head>\n",
      "<body>\n",
      "    <h1>Witaj na mojej stronie!</h1>\n",
      "    <p>Oto kilka linków:</p>\n",
      "    <a href=\"https://www.przyklad1.com\">Link 1</a>\n",
      "    <a href=\"https://www.przyklad2.com\">Link 2</a>\n",
      "    <a href=\"https://www.przyklad3.com\">Link 3</a>\n",
      "    <a href=\"mailto:kontakt@przyklad4.com\">Email</a>\n",
      "</body>\n",
      "</html>\n",
      "\n"
     ]
    }
   ],
   "source": [
    "with open('strona.html', encoding='utf-8') as file_obj:\n",
    "    content = file_obj.read()\n",
    "print(content)"
   ]
  },
  {
   "cell_type": "markdown",
   "id": "00b70bcd-2a5a-4fb4-b56d-3ab5cdf93b91",
   "metadata": {},
   "source": [
    "#### 1. Znalezienie wszystkich tytułów strony"
   ]
  },
  {
   "cell_type": "code",
   "execution_count": 4,
   "id": "065c20c8-39c9-4dfe-a1ac-bc6fd2d3d2e6",
   "metadata": {},
   "outputs": [
    {
     "name": "stdout",
     "output_type": "stream",
     "text": [
      "['Przykładowa strona']\n"
     ]
    }
   ],
   "source": [
    "import re\n",
    "title_pattern = r\"<title>(.*)</title>\"\n",
    "result = re.findall(title_pattern, content)\n",
    "print(result)"
   ]
  },
  {
   "cell_type": "markdown",
   "id": "91048cb2-76eb-4523-82ef-e4973922dbd3",
   "metadata": {
    "jupyter": {
     "source_hidden": true
    }
   },
   "source": [
    "#### 2: Znalezienie wszystkich nagłówków H1"
   ]
  },
  {
   "cell_type": "code",
   "execution_count": 6,
   "id": "052ea68e-bc0b-4b15-be57-315290c7539e",
   "metadata": {},
   "outputs": [
    {
     "name": "stdout",
     "output_type": "stream",
     "text": [
      "['Witaj na mojej stronie!']\n"
     ]
    }
   ],
   "source": [
    "h1_pattern = r\"<h1>(.*)</h1>\"\n",
    "result = re.findall(h1_pattern, content)\n",
    "print(result)"
   ]
  },
  {
   "cell_type": "markdown",
   "id": "e63f68d9-19c9-46fd-adaf-20fdebd0b714",
   "metadata": {},
   "source": [
    "#### 3: Znalezienie wszystkich linków (adresów URL)"
   ]
  },
  {
   "cell_type": "code",
   "execution_count": 10,
   "id": "5c784069-a106-4f24-8a6f-51155d56f705",
   "metadata": {},
   "outputs": [
    {
     "name": "stdout",
     "output_type": "stream",
     "text": [
      "['https://www.przyklad1.com', 'https://www.przyklad2.com', 'https://www.przyklad3.com', 'mailto:kontakt@przyklad4.com']\n"
     ]
    }
   ],
   "source": [
    "link_pattern = r'href=\"(.*)\"'\n",
    "result = re.findall(link_pattern, content)\n",
    "print(result)"
   ]
  },
  {
   "cell_type": "markdown",
   "id": "9cda4222-cb42-44ea-b8d7-969d55d39eec",
   "metadata": {},
   "source": [
    "#### 4: Znalezienie wszystkich adresów e-mail"
   ]
  },
  {
   "cell_type": "code",
   "execution_count": 9,
   "id": "559908de-7b85-44c8-bbde-34241e4abd25",
   "metadata": {},
   "outputs": [
    {
     "name": "stdout",
     "output_type": "stream",
     "text": [
      "[':kontakt@przyklad4.com']\n"
     ]
    }
   ],
   "source": [
    "mail_pattern = r'href=\"mailto(.*)\"'\n",
    "result = re.findall(mail_pattern, content)\n",
    "print(result)"
   ]
  },
  {
   "cell_type": "markdown",
   "id": "4572c822-e875-44cc-bcd7-67b5e6c6dce3",
   "metadata": {},
   "source": [
    "#### 5: Znalezienie wszystkich paragrafów"
   ]
  },
  {
   "cell_type": "code",
   "execution_count": 30,
   "id": "a4e8b1fe-94d9-4541-9856-c7f272337153",
   "metadata": {},
   "outputs": [
    {
     "name": "stdout",
     "output_type": "stream",
     "text": [
      "['<!DOCTYPE HTML>', '<HTML LANG=\"PL\">', '<HEAD>', '<META CHARSET=\"UTF-8\">', '</TITLE>', '</HEAD>', '<BODY>', '</H1>', '</P>', '</A>', '</A>', '</A>', '</A>', '</BODY>', '</HTML>']\n"
     ]
    }
   ],
   "source": [
    "tag_html_pattern = r'.*(<.*>).*'\n",
    "result1 = re.findall(tag_html_pattern, content)\n",
    "result2 = re.findall(tag_html_pattern, content.upper())\n",
    "\n",
    "print(result)\n"
   ]
  },
  {
   "cell_type": "code",
   "execution_count": 32,
   "id": "f13ec9ec-ce00-4824-9deb-0ebe13cdd77a",
   "metadata": {},
   "outputs": [
    {
     "ename": "TypeError",
     "evalue": "unhashable type: 'list'",
     "output_type": "error",
     "traceback": [
      "\u001b[1;31m---------------------------------------------------------------------------\u001b[0m",
      "\u001b[1;31mTypeError\u001b[0m                                 Traceback (most recent call last)",
      "Cell \u001b[1;32mIn[32], line 1\u001b[0m\n\u001b[1;32m----> 1\u001b[0m result3 \u001b[38;5;241m=\u001b[39m \u001b[43mre\u001b[49m\u001b[38;5;241;43m.\u001b[39;49m\u001b[43msub\u001b[49m\u001b[43m(\u001b[49m\u001b[43mtag_html_pattern\u001b[49m\u001b[43m,\u001b[49m\u001b[43m \u001b[49m\u001b[43mresult2\u001b[49m\u001b[43m,\u001b[49m\u001b[43m \u001b[49m\u001b[43mresult1\u001b[49m\u001b[43m)\u001b[49m\n\u001b[0;32m      2\u001b[0m result3\n",
      "File \u001b[1;32m~\\AppData\\Local\\Programs\\Python\\Python312\\Lib\\re\\__init__.py:186\u001b[0m, in \u001b[0;36msub\u001b[1;34m(pattern, repl, string, count, flags)\u001b[0m\n\u001b[0;32m    179\u001b[0m \u001b[38;5;28;01mdef\u001b[39;00m \u001b[38;5;21msub\u001b[39m(pattern, repl, string, count\u001b[38;5;241m=\u001b[39m\u001b[38;5;241m0\u001b[39m, flags\u001b[38;5;241m=\u001b[39m\u001b[38;5;241m0\u001b[39m):\n\u001b[0;32m    180\u001b[0m \u001b[38;5;250m    \u001b[39m\u001b[38;5;124;03m\"\"\"Return the string obtained by replacing the leftmost\u001b[39;00m\n\u001b[0;32m    181\u001b[0m \u001b[38;5;124;03m    non-overlapping occurrences of the pattern in string by the\u001b[39;00m\n\u001b[0;32m    182\u001b[0m \u001b[38;5;124;03m    replacement repl.  repl can be either a string or a callable;\u001b[39;00m\n\u001b[0;32m    183\u001b[0m \u001b[38;5;124;03m    if a string, backslash escapes in it are processed.  If it is\u001b[39;00m\n\u001b[0;32m    184\u001b[0m \u001b[38;5;124;03m    a callable, it's passed the Match object and must return\u001b[39;00m\n\u001b[0;32m    185\u001b[0m \u001b[38;5;124;03m    a replacement string to be used.\"\"\"\u001b[39;00m\n\u001b[1;32m--> 186\u001b[0m     \u001b[38;5;28;01mreturn\u001b[39;00m \u001b[43m_compile\u001b[49m\u001b[43m(\u001b[49m\u001b[43mpattern\u001b[49m\u001b[43m,\u001b[49m\u001b[43m \u001b[49m\u001b[43mflags\u001b[49m\u001b[43m)\u001b[49m\u001b[38;5;241;43m.\u001b[39;49m\u001b[43msub\u001b[49m\u001b[43m(\u001b[49m\u001b[43mrepl\u001b[49m\u001b[43m,\u001b[49m\u001b[43m \u001b[49m\u001b[43mstring\u001b[49m\u001b[43m,\u001b[49m\u001b[43m \u001b[49m\u001b[43mcount\u001b[49m\u001b[43m)\u001b[49m\n",
      "\u001b[1;31mTypeError\u001b[0m: unhashable type: 'list'"
     ]
    }
   ],
   "source": [
    "result3 = re.sub(tag_html_pattern, result2, result1)\n",
    "result3"
   ]
  },
  {
   "cell_type": "code",
   "execution_count": null,
   "id": "122ddd67-721e-4550-82a8-dd418d349eac",
   "metadata": {},
   "outputs": [],
   "source": []
  }
 ],
 "metadata": {
  "kernelspec": {
   "display_name": "Python 3 (ipykernel)",
   "language": "python",
   "name": "python3"
  },
  "language_info": {
   "codemirror_mode": {
    "name": "ipython",
    "version": 3
   },
   "file_extension": ".py",
   "mimetype": "text/x-python",
   "name": "python",
   "nbconvert_exporter": "python",
   "pygments_lexer": "ipython3",
   "version": "3.12.3"
  }
 },
 "nbformat": 4,
 "nbformat_minor": 5
}
