{
 "cells": [
  {
   "cell_type": "markdown",
   "id": "4482b432-e50f-40ea-8190-71b0029af2ad",
   "metadata": {},
   "source": [
    "### [Yes Or No API](https://yesno.wtf)\n",
    "\n",
    "Napisz program, który wykorzystuje `Yes Or No API` do pobrania losowego obrazka w formacie gif a następnie wyświetla pobrany plik w Pythonie."
   ]
  },
  {
   "cell_type": "code",
   "execution_count": 9,
   "id": "2cde5b9c-625e-4e4e-824d-5800287286fe",
   "metadata": {},
   "outputs": [
    {
     "name": "stdin",
     "output_type": "stream",
     "text": [
      "Zadaj pytanie, a otrzymasz odpowiedz:  Czy ten program dziala?\n"
     ]
    },
    {
     "data": {
      "text/html": [
       "<img src=\"https://yesno.wtf/assets/no/30-d37eee83c3c2180de4edb7da6fa9f5b7.gif\"/>"
      ],
      "text/plain": [
       "<IPython.core.display.Image object>"
      ]
     },
     "metadata": {},
     "output_type": "display_data"
    }
   ],
   "source": [
    "import requests \n",
    "from IPython.display import Image as IPythonImage, display\n",
    "\n",
    "input(\"Zadaj pytanie, a otrzymasz odpowiedz: \")\n",
    "url = 'https://yesno.wtf/api'\n",
    "res = requests.get(url)\n",
    "data = res.json()\n",
    "\n",
    "img_link = data['image']\n",
    "display(IPythonImage(url=img_link))"
   ]
  },
  {
   "cell_type": "code",
   "execution_count": null,
   "id": "20a88288-dc80-4318-9ccf-77937ef36bbc",
   "metadata": {},
   "outputs": [],
   "source": []
  },
  {
   "cell_type": "code",
   "execution_count": null,
   "id": "7b752bf4-98a2-4fac-8cb9-690111d68426",
   "metadata": {},
   "outputs": [],
   "source": []
  }
 ],
 "metadata": {
  "kernelspec": {
   "display_name": "Python 3 (ipykernel)",
   "language": "python",
   "name": "python3"
  },
  "language_info": {
   "codemirror_mode": {
    "name": "ipython",
    "version": 3
   },
   "file_extension": ".py",
   "mimetype": "text/x-python",
   "name": "python",
   "nbconvert_exporter": "python",
   "pygments_lexer": "ipython3",
   "version": "3.12.3"
  }
 },
 "nbformat": 4,
 "nbformat_minor": 5
}
