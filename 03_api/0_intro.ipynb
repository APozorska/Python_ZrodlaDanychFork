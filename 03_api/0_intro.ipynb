{
 "cells": [
  {
   "cell_type": "markdown",
   "id": "c94ad4f7-b893-4ea6-9af2-a2690d1a7ec9",
   "metadata": {},
   "source": [
    "#### Wstęp na temat programownia webowego i biblioteki `requests`"
   ]
  },
  {
   "cell_type": "code",
   "execution_count": null,
   "id": "ddc63954-f844-46d6-b408-802a4701f0df",
   "metadata": {},
   "outputs": [],
   "source": []
  },
  {
   "cell_type": "markdown",
   "id": "b8ad01f7-c88c-4723-a3dc-31d13aa9f4d4",
   "metadata": {},
   "source": [
    "Strony z listami dostępnych w sieci serwisów API (Application Programming Interface):\n",
    "- https://github.com/public-apis/public-apis\n",
    "- https://apipheny.io/free-api/\n",
    "- https://mixedanalytics.com/blog/list-actually-free-open-no-auth-needed-apis/\n",
    "- https://www.linkedin.com/pulse/21-open-free-apis-developers-vineet-prasad-1xfuc/\n"
   ]
  }
 ],
 "metadata": {
  "kernelspec": {
   "display_name": "Python 3 (ipykernel)",
   "language": "python",
   "name": "python3"
  },
  "language_info": {
   "codemirror_mode": {
    "name": "ipython",
    "version": 3
   },
   "file_extension": ".py",
   "mimetype": "text/x-python",
   "name": "python",
   "nbconvert_exporter": "python",
   "pygments_lexer": "ipython3",
   "version": "3.12.4"
  }
 },
 "nbformat": 4,
 "nbformat_minor": 5
}
