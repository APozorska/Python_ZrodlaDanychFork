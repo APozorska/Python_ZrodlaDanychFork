{
 "cells": [
  {
   "cell_type": "markdown",
   "id": "02be3228-e570-4f40-9fde-fe11939d7d8d",
   "metadata": {},
   "source": [
    "### [API Chuck Norris](https://api.chucknorris.io)\n",
    "\n",
    "Napisz program, który wykorzystuje API Chuck Norris do pobrania losowego dowcipu o Chucku Norrisie i wyświetla go na ekranie."
   ]
  },
  {
   "cell_type": "code",
   "execution_count": 3,
   "id": "cfe5ae13-315a-4575-a772-ac16861844df",
   "metadata": {},
   "outputs": [
    {
     "data": {
      "text/plain": [
       "{'categories': [],\n",
       " 'created_at': '2020-01-05 13:42:25.099703',\n",
       " 'icon_url': 'https://api.chucknorris.io/img/avatar/chuck-norris.png',\n",
       " 'id': 'dINSkBgVSAeUQpngVt-aPg',\n",
       " 'updated_at': '2020-01-05 13:42:25.099703',\n",
       " 'url': 'https://api.chucknorris.io/jokes/dINSkBgVSAeUQpngVt-aPg',\n",
       " 'value': 'Like President Obama Chuck Norris also recieved the Nobel peace prize for doing nothing, but in Chucks case millions of lives were saved..'}"
      ]
     },
     "execution_count": 3,
     "metadata": {},
     "output_type": "execute_result"
    }
   ],
   "source": [
    "import requests \n",
    "\n",
    "url = 'https://api.chucknorris.io/jokes/random'\n",
    "res = requests.get(url)\n",
    "data = res.json()\n",
    "data"
   ]
  },
  {
   "cell_type": "code",
   "execution_count": 4,
   "id": "aac8f346-7f97-407d-9c84-206dd026252f",
   "metadata": {},
   "outputs": [
    {
     "data": {
      "text/plain": [
       "'Like President Obama Chuck Norris also recieved the Nobel peace prize for doing nothing, but in Chucks case millions of lives were saved..'"
      ]
     },
     "execution_count": 4,
     "metadata": {},
     "output_type": "execute_result"
    }
   ],
   "source": [
    "data['value']"
   ]
  },
  {
   "cell_type": "code",
   "execution_count": null,
   "id": "0d8b2d0c-945d-4dde-a47c-52e264c9de73",
   "metadata": {},
   "outputs": [],
   "source": []
  }
 ],
 "metadata": {
  "kernelspec": {
   "display_name": "Python 3 (ipykernel)",
   "language": "python",
   "name": "python3"
  },
  "language_info": {
   "codemirror_mode": {
    "name": "ipython",
    "version": 3
   },
   "file_extension": ".py",
   "mimetype": "text/x-python",
   "name": "python",
   "nbconvert_exporter": "python",
   "pygments_lexer": "ipython3",
   "version": "3.12.3"
  }
 },
 "nbformat": 4,
 "nbformat_minor": 5
}
